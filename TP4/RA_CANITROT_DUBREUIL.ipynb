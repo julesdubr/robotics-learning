{
  "cells": [
    {
      "cell_type": "markdown",
      "metadata": {
        "id": "rsofIjzbMDnU"
      },
      "source": [
        "# <font color='red'>TME ROBOTIQUE ET APPRENTISSAGE</font>\n",
        "# <font color='red'>Optimisation multi-objectif</font>\n",
        "\n",
        "<font color=\"red\">Version étudiant 2021-2022</font>\n",
        "\n",
        "*mise à jour: 28/03/2022*"
      ]
    },
    {
      "cell_type": "markdown",
      "metadata": {
        "id": "EmNGRJcFMDnX"
      },
      "source": [
        "Ce notebook peut être exécuté dans [Google Colab](colab.research.google.com/)\n",
        "\n",
        "Pour faciliter la lisibilité du notebook, le code donné, à écrire ou à compléter est dans les cellules en annexe, à la fin du notebook. Les cellules de réponses ne doivent contenir que les quelques instructions permettant d'afficher les résultats (éventuellement des appels permettant de les générer) et les commentaires d'analyse associés.\n",
        "\n",
        "Vous devez déposer votre travail sur Moodle:\n",
        "* déposer votre notebook, avec le nom de fichier *obligatoirement* au format suivant: **RA_NOM1_NOM2.ipynb**\n",
        "* toutes les cellules exécutées\n",
        "* des graphes et un commentaire sur les résultats obtenus\n",
        "* affichage limité au nécessaire pour assurer la lisibilité du notebook (pas d'affichage de debug ni de centaines de graphes !)\n",
        "\n",
        "*Le sujet est à faire en binome.*\n",
        "\n",
        "# COMPLETEZ LES CHAMPS CI-DESSOUS AVEC NOM/PRENOM/CARTE_ETU:\n",
        "\n",
        "* Étudiant 1: **_CANITROT_ _Julien_ _3803521_**\n",
        "* Étudiant 2: **_DUBREUIL_ _Jules_ _3800417_**"
      ]
    },
    {
      "cell_type": "markdown",
      "metadata": {
        "id": "E54pbCN8MDnY"
      },
      "source": [
        "## 1. Introduction\n",
        "\n",
        "Dans ce TME, vous allez mettre en oeuvre des algorithmes évolutionnistes, notamment multi-objectifs pour faire de l'apprentissage. Pour cela, différentes fonctions vous sont fournies afin de tracer les individus générés à chaque génération ou de comparer les résultats entre eux. Vous testerez également Gym, un environnement utilisé en apprentissage par renforcement pour normaliser les expériences d'apprentissage sur des robots (virtuels)."
      ]
    },
    {
      "cell_type": "markdown",
      "metadata": {
        "id": "B-g7fMBrMDnY"
      },
      "source": [
        "### 1.1 Dépendances\n",
        "\n",
        "Vous aurez besoin de la bibliothèque DEAP (https://deap.readthedocs.io/en/master/) et d'OpenAI Gym (https://gym.openai.com/)."
      ]
    },
    {
      "cell_type": "code",
      "execution_count": 1,
      "metadata": {
        "colab": {
          "base_uri": "https://localhost:8080/",
          "height": 0
        },
        "id": "EZMjQh9eMDnZ",
        "outputId": "c58fd046-23be-49a4-a4c2-c0a70651ccc0"
      },
      "outputs": [
        {
          "name": "stdout",
          "output_type": "stream",
          "text": [
            "Requirement already satisfied: deap in c:\\users\\jules\\appdata\\local\\packages\\pythonsoftwarefoundation.python.3.9_qbz5n2kfra8p0\\localcache\\local-packages\\python39\\site-packages (1.3.1)\n",
            "Requirement already satisfied: numpy in c:\\users\\jules\\appdata\\local\\packages\\pythonsoftwarefoundation.python.3.9_qbz5n2kfra8p0\\localcache\\local-packages\\python39\\site-packages (from deap) (1.21.4)\n",
            "Note: you may need to restart the kernel to use updated packages.\n",
            "Requirement already satisfied: gym in c:\\users\\jules\\appdata\\local\\packages\\pythonsoftwarefoundation.python.3.9_qbz5n2kfra8p0\\localcache\\local-packages\\python39\\site-packages (0.21.0)\n",
            "Requirement already satisfied: cloudpickle>=1.2.0 in c:\\users\\jules\\appdata\\local\\packages\\pythonsoftwarefoundation.python.3.9_qbz5n2kfra8p0\\localcache\\local-packages\\python39\\site-packages (from gym) (2.0.0)\n",
            "Requirement already satisfied: numpy>=1.18.0 in c:\\users\\jules\\appdata\\local\\packages\\pythonsoftwarefoundation.python.3.9_qbz5n2kfra8p0\\localcache\\local-packages\\python39\\site-packages (from gym) (1.21.4)\n",
            "Note: you may need to restart the kernel to use updated packages.\n",
            "Requirement already satisfied: scoop in c:\\users\\jules\\appdata\\local\\packages\\pythonsoftwarefoundation.python.3.9_qbz5n2kfra8p0\\localcache\\local-packages\\python39\\site-packages (0.7.1.1)\n",
            "Requirement already satisfied: greenlet>=0.3.4 in c:\\users\\jules\\appdata\\local\\packages\\pythonsoftwarefoundation.python.3.9_qbz5n2kfra8p0\\localcache\\local-packages\\python39\\site-packages (from scoop) (1.1.2)\n",
            "Requirement already satisfied: pyzmq>=13.1.0 in c:\\users\\jules\\appdata\\local\\packages\\pythonsoftwarefoundation.python.3.9_qbz5n2kfra8p0\\localcache\\local-packages\\python39\\site-packages (from scoop) (22.3.0)\n",
            "Collecting argparse>=1.1\n",
            "  Using cached argparse-1.4.0-py2.py3-none-any.whl (23 kB)\n",
            "Installing collected packages: argparse\n",
            "Successfully installed argparse-1.4.0\n",
            "Note: you may need to restart the kernel to use updated packages.\n"
          ]
        }
      ],
      "source": [
        "%pip install deap\n",
        "%pip install gym\n",
        "%pip install scoop"
      ]
    },
    {
      "cell_type": "code",
      "execution_count": 7,
      "metadata": {
        "id": "pd88WfMCMDna"
      },
      "outputs": [],
      "source": [
        "# à exécuter pour pouvoir tracer les courbes demandées\n",
        "import matplotlib.pyplot as plt\n",
        "\n",
        "# pour que les figures apparaissent directement dans le notebook\n",
        "%matplotlib inline \n",
        "\n",
        "import random\n",
        "# ne pas oublier d'initialiser la graine aléatoire...\n",
        "random.seed()\n",
        "\n",
        "import numpy as np\n",
        "import importlib\n",
        "from deap import benchmarks"
      ]
    },
    {
      "cell_type": "markdown",
      "metadata": {
        "id": "2iM8Y88sMDna"
      },
      "source": [
        "### 1.2 Scoop\n",
        "\n",
        "DEAP est compatible avec une bibliothèque de parallisation appelée SCOOP. Elle permet d'évaluer plusieurs solutions en tirant partie des architectures multi-coeur. Cette bibliothèque ne peut malheureusement pas être utilisée dans un notebook. Pour l'utiliser, il faut appeler le programme python en chargeant le module scoop. Depuis une cellule du notebook, cela se fait comme cela:\n",
        "<pre>!python3 -m scoop programme.py</pre>\n",
        "\n",
        "Pour permettre son utilisation, les cellules de code en annexe disposent d'une commande \"magique\" pour à la fois les exécuter et les écrire dans un fichier. Vous pouvez donc les importer ou lancer les programmes soit depuis le notebook, soit depuis un terminal, soit encore depuis le notebook avec un appel de type:\n",
        "<pre>!python3 programme.py</pre>\n",
        "\n",
        "**Remarque:** la parallélisation que permet scoop n'est intéressante que si les évaluations sont suffisamment longues. Dans le TME, ce sera intéressant pour les expériences avec Gym, si les temps d'évaluation sont suffisamment longs. \n"
      ]
    },
    {
      "cell_type": "markdown",
      "metadata": {
        "id": "BVViu0s9MDnb"
      },
      "source": [
        "## 2. Prise en main de DEAP\n",
        "\n",
        "Dans la suite du TME, vous serez invités à utiliser DEAP, cf https://deap.readthedocs.io/en/master/index.html.\n",
        "\n",
        "Comme cela a déjà été vu, DEAP est une bibliothèque de prototypage rapide d'algorithmes évolutionnistes. Elle permet de travailler à plusieurs niveaux, depuis l'implémentation complète de l'algorithme à partir de briques de base jusqu'à l'utilisation boite noire d'un algorithme entièrement implémenté et en passant par des approches intermédiaires, dans lesquelles des modules sont réutilisés, par exemple pour la sélection, les mutations ou les croisements.  "
      ]
    },
    {
      "cell_type": "markdown",
      "metadata": {
        "id": "DD7aorfIn5rS"
      },
      "source": [
        "### 2.1 Sélection par tournoi"
      ]
    },
    {
      "cell_type": "markdown",
      "metadata": {
        "id": "1d75lbdPMDnc"
      },
      "source": [
        "Complétez le code en annexe pour implémenter un algorithme évolutionniste avec une sélection par tournoi qui choisira les parents sur la base de tournois à 3 individus choisis aléatoirement avec une population de taille donnée (les valeurs possibles sont indiquées ci-dessous).\n",
        "\n",
        "Détails de l'algorithme à implémenter:\n",
        "- croisement de type SBX (Simulated Binary Crossover), eta=15\n",
        "- mutation de type polynomiale bornée, eta=15.0 et indpb=1/IND_SIZE (IND_SIZE étant la taille d'un génome)\n",
        "\n",
        "Voir https://deap.readthedocs.io/en/master/api/tools.html pour les différents opérateurs défini dans DEAP et la documentation associée. Vous utiliserez les fonctions de la toolbox DEAP pour faciliter votre implémentation et vous pourrez vous inspirer des exemples fournis.\n",
        "\n",
        "Les paramètres seront initialisés entre -5 et 5 (vous pourrez utiliser random.uniform pour l'initialisation).\n",
        "\n",
        "**Remarque:** la méthode `register` de la toolbox permet d'enregistrer une fonction dans cette toolbox sous un nom donné en premier argument. Le deuxième argument est le nom de la fonction. Les arguments suivants sont optionnels et seront transmis automatiquement à la fonction lorsqu'elle sera appelée (en plus des arguments qui seront éventuellement ajoutés lors de l'appel, par exemple l'individu à muter dans le cas d'une méthode de mutation). Exemple:"
      ]
    },
    {
      "cell_type": "code",
      "execution_count": 3,
      "metadata": {
        "colab": {
          "base_uri": "https://localhost:8080/"
        },
        "id": "DV3IwkGiMDnc",
        "outputId": "e60fb00c-bef2-4c99-b1ac-28674155febb"
      },
      "outputs": [
        {
          "name": "stdout",
          "output_type": "stream",
          "text": [
            "a=3 b=4\n"
          ]
        }
      ],
      "source": [
        "from deap import tools,base\n",
        "\n",
        "def mon_test(a, b):\n",
        "    print(\"a=\"+str(a)+\" b=\"+str(b))\n",
        "toolbox = base.Toolbox() \n",
        "toolbox.register(\"test\", mon_test, a=3)\n",
        "toolbox.test(b=4)"
      ]
    },
    {
      "cell_type": "markdown",
      "metadata": {
        "id": "0EUnfgr7MDnd"
      },
      "source": [
        "Les algorithmes évolutionnistes ont une part stochastique et ne donnent donc pas toujours le même résultat. Vous tracerez donc l'évolution de la meilleure fitness pour 10 runs indépendants. Plutôt que de tracer les 10 courbes, vous tracerez la médiane des maxima et un intervalle représentant le 1er et le 3eme quartile. Vous procéderez pour cela de la façon suivante:\n",
        "\n",
        "\n",
        "    plt.plot(gen,median_max, label=\"Mediane des max\")\n",
        "    plt.fill_between(gen, fit_25, fit_75, alpha=0.25, linewidth=0)\n",
        "\n",
        "gen étant une liste de générations, median_max la liste des médianes des maxima et fit_25 et fit_75 les 1er et 3eme quartiles. Vous pourrez les déterminer avec la fonction quantile de numpy: quantile(points, 0.25) et quantile(points, 0.75), avec points une liste qui contient les fitness des différents runs à une génération donnée (il faut donc faire une boucle et appeler ces fonctions pour chaque génération).\n",
        "\n",
        "Vous testerez votre algorithme sur la fonction de Ackley. Elle est disponible dans DEAP et peut être appelée dans n'importe quelle dimension. Vous pourrez faire vos tests avec la dimension IND_SIZE=10, par exemple. \n",
        "\n",
        "Complétez le code en annexe et tracez les courbes pour des populations de taille croissante: [5, 10, 100, 200]. Que constatez-vous ?"
      ]
    },
    {
      "cell_type": "code",
      "execution_count": 4,
      "metadata": {
        "colab": {
          "base_uri": "https://localhost:8080/",
          "height": 350
        },
        "id": "TYWpfF7FEp4i",
        "outputId": "4b0864f1-17d0-408f-80f1-dd8b2267b92e"
      },
      "outputs": [
        {
          "data": {
            "image/png": "[encoded data removed]",
            "text/plain": [
              "<Figure size 432x288 with 1 Axes>"
            ]
          },
          "metadata": {
            "needs_background": "light"
          },
          "output_type": "display_data"
        }
      ],
      "source": [
        "from ea_tournament import ea_tournament\n",
        "\n",
        "plt.figure()\n",
        "plt.title(\"Fitness mean vs iterations\")\n",
        "plt.xlabel(\"Iterations\")\n",
        "plt.ylabel(\"Fitness mean\")\n",
        "\n",
        "for pop_size in [5, 10, 100, 200]:\n",
        "    data = []\n",
        "    for _ in range(10):\n",
        "        data.append(ea_tournament(pop_size, 100, evaluate=benchmarks.ackley, IND_SIZE=10)[2])\n",
        "\n",
        "    gen = data[0].select(\"gen\")\n",
        "\n",
        "    genscore = [[data[j].select(\"avg\")[i] for j in range(10)] for i in range(100)]\n",
        "    median = [np.median(genscore[i]) for i in range(100)]\n",
        "    fit_25 = [np.quantile(genscore[i],0.25) for i in range(100)]\n",
        "    fit_75 = [np.quantile(genscore[i],0.75) for i in range(100)]\n",
        "    plt.plot(gen, median, label=f\"pop={pop_size}\")\n",
        "    plt.fill_between(gen, fit_25, fit_75, alpha=0.25, linewidth=0)\n",
        "\n",
        "plt.legend()\n",
        "plt.show()"
      ]
    },
    {
      "cell_type": "markdown",
      "metadata": {
        "id": "3EvirDTuMDne"
      },
      "source": [
        "Commentaire:\n",
        "<ANSWER>\n",
        "\n",
        "</ANSWER>\n"
      ]
    },
    {
      "cell_type": "markdown",
      "metadata": {
        "id": "oikX8T9Pn2yo"
      },
      "source": [
        "### 2.2 Sélection élitiste"
      ]
    },
    {
      "cell_type": "markdown",
      "metadata": {
        "id": "ajFZJM8ZMDne"
      },
      "source": [
        "Même question mais avec une séleciton de type élitiste: à chaque génération, création de pop_size nouveaux individus (par copie de la population courante, puis mutation de chaque individu avec une probabilité de MUTPB et croisement avec une probabilité de CXPB, vous pourrez utiliser l'algorithme varAnd: https://deap.readthedocs.io/en/master/api/algo.html?highlight=varand#deap.algorithms.varAnd) et sélection des pop_size meilleurs parmi les enfants ainsi générés et leurs parents (Attention: l'appel à la fonction de sélection ne se fera pas au même endroit que pour l'algorithme précédent).\n",
        "\n",
        "Complétez le code en annexe et tracez les courbes pour des populations de taille croissante: [5, 10, 100, 200]. Que constatez-vous ?"
      ]
    },
    {
      "cell_type": "code",
      "execution_count": 5,
      "metadata": {},
      "outputs": [
        {
          "name": "stderr",
          "output_type": "stream",
          "text": [
            "C:\\Users\\jules\\AppData\\Local\\Packages\\PythonSoftwareFoundation.Python.3.9_qbz5n2kfra8p0\\LocalCache\\local-packages\\Python39\\site-packages\\scoop\\fallbacks.py:38: RuntimeWarning: SCOOP was not started properly.\n",
            "Be sure to start your program with the '-m scoop' parameter. You can find further information in the documentation.\n",
            "Your map call has been replaced by the builtin serial Python map().\n",
            "  warnings.warn(\n"
          ]
        },
        {
          "data": {
            "image/png": "[encoded data removed]",
            "text/plain": [
              "<Figure size 432x288 with 1 Axes>"
            ]
          },
          "metadata": {
            "needs_background": "light"
          },
          "output_type": "display_data"
        }
      ],
      "source": [
        "from ea_elitist import ea_elitist\n",
        "\n",
        "plt.figure()\n",
        "plt.title(\"Fitness mean vs iterations\")\n",
        "plt.xlabel(\"Iterations\")\n",
        "plt.ylabel(\"Fitness mean\")\n",
        "\n",
        "for pop_size in [5, 10, 100, 200]:\n",
        "    data = []\n",
        "    for _ in range(10):\n",
        "        data.append(ea_elitist(pop_size, 100, evaluate=benchmarks.ackley, IND_SIZE=10)[2])\n",
        "\n",
        "    gen = data[0].select(\"gen\")\n",
        "\n",
        "    genscore = [[data[j].select(\"avg\")[i] for j in range(10)] for i in range(100)]\n",
        "    median = [np.median(genscore[i]) for i in range(100)]\n",
        "    fit_25 = [np.quantile(genscore[i],0.25) for i in range(100)]\n",
        "    fit_75 = [np.quantile(genscore[i],0.75) for i in range(100)]\n",
        "    plt.plot(gen, median, label=f\"pop={pop_size}\")\n",
        "    plt.fill_between(gen, fit_25, fit_75, alpha=0.25, linewidth=0)\n",
        "\n",
        "plt.legend()\n",
        "plt.show()"
      ]
    },
    {
      "cell_type": "markdown",
      "metadata": {
        "id": "i1LCMR7PMDne"
      },
      "source": [
        "Commentaire:\n",
        "<ANSWER>\n",
        "\n",
        "</ANSWER>"
      ]
    },
    {
      "cell_type": "markdown",
      "metadata": {
        "id": "y885APZCMDne"
      },
      "source": [
        "**Remarque:** les performances relatives des stratégies de sélection élitiste ou par tournoi dependent des caractéristiques de la fonction à optimiser, ne pas tirer de conclusion trop générales de vos observations."
      ]
    },
    {
      "cell_type": "markdown",
      "metadata": {
        "id": "_mHqe5olUSys"
      },
      "source": [
        "## 3. Implémentation de NSGA-II"
      ]
    },
    {
      "cell_type": "markdown",
      "metadata": {
        "id": "i57GQnX1MDnf"
      },
      "source": [
        "Implémentez maintenant NSGA-II en vous appuyant sur les fonctions fournies dans DEAP (annexe question 2 à compléter). Vous testerez NSGA-II sur un benchmark multi-objectif fourni dans DEAP, par exemple, la fonction de Fonseca et Fleming.\n",
        "\n",
        "Utilisez l'hypervolume pour caractériser la performance et tracer les courbes avec l'hypervolume (moyenne et 1er-3eme quartiles).\n",
        "\n",
        "Comme précédemment, tracez l'évolution de l'hypervolume (mediane des max et 1er et 3eme quartiles) pour des populations de taille [5, 10, 100, 200]. \n",
        "\n",
        "Que remarquez-vous ?\n",
        "\n",
        "Dans le cas de la fonction de Fonseca, vous pourrez utiliser (1,1) comme point de référence."
      ]
    },
    {
      "cell_type": "code",
      "execution_count": 6,
      "metadata": {
        "id": "VvtqKAdKMDnf"
      },
      "outputs": [
        {
          "name": "stdout",
          "output_type": "stream",
          "text": [
            "Exemple d'utilisation du code de calcul de l'hypervolume. L'hypothèse est celle d'une minimisation.\n",
            "Il faut donner un point de référence correspondant, par exemple, aux valeurs maximales pour les objectifs.\n",
            "Hypervolume: 3.000000\n"
          ]
        }
      ],
      "source": [
        "print(\"Exemple d'utilisation du code de calcul de l'hypervolume. L'hypothèse est celle d'une minimisation.\")\n",
        "print(\"Il faut donner un point de référence correspondant, par exemple, aux valeurs maximales pour les objectifs.\")\n",
        "from deap.tools._hypervolume import hv\n",
        "print(\"Hypervolume: %f\"%(hv.hypervolume([np.array([1,0]), np.array([1,1]), np.array([0,1])], np.array([2,2]))))\n"
      ]
    },
    {
      "cell_type": "code",
      "execution_count": 7,
      "metadata": {},
      "outputs": [],
      "source": [
        "import nsga2"
      ]
    },
    {
      "cell_type": "code",
      "execution_count": 8,
      "metadata": {},
      "outputs": [
        {
          "data": {
            "image/png": "[encoded data removed]",
            "text/plain": [
              "<Figure size 432x288 with 1 Axes>"
            ]
          },
          "metadata": {
            "needs_background": "light"
          },
          "output_type": "display_data"
        }
      ],
      "source": [
        "importlib.reload(nsga2)\n",
        "\n",
        "plt.figure()\n",
        "plt.title(\"Hypervolume mean vs iterations\")\n",
        "plt.xlabel(\"Iterations\")\n",
        "plt.ylabel(\"Hypervolume mean\")\n",
        "\n",
        "for pop_size in [4, 8, 64, 128]:\n",
        "    data = []\n",
        "    for _ in range(10):\n",
        "        data.append(nsga2.nsga2(pop_size, 100, evaluate=benchmarks.fonseca)[2])\n",
        "\n",
        "    gen = data[0].select(\"gen\")\n",
        "\n",
        "    genscore = [[np.mean(data[j].select(\"hypervolume\")[i]) for j in range(10)] for i in range(100)]\n",
        "    median = [np.median(genscore[i]) for i in range(100)]\n",
        "    fit_25 = [np.quantile(genscore[i],0.25) for i in range(100)]\n",
        "    fit_75 = [np.quantile(genscore[i],0.75) for i in range(100)]\n",
        "    plt.plot(gen, median, label=f\"pop={pop_size}\")\n",
        "    plt.fill_between(gen, fit_25, fit_75, alpha=0.25, linewidth=0)\n",
        "\n",
        "plt.legend()\n",
        "plt.show()"
      ]
    },
    {
      "cell_type": "markdown",
      "metadata": {
        "id": "4xNWYcufMDnf"
      },
      "source": [
        "Commentaire:\n",
        "<ANSWER>\n",
        "\n",
        "</ANSWER>"
      ]
    },
    {
      "cell_type": "markdown",
      "metadata": {
        "id": "7gSeTVpHTpxc"
      },
      "source": [
        "## 4. Apprentissage de politiques avec gym"
      ]
    },
    {
      "cell_type": "markdown",
      "metadata": {
        "id": "pAPMikXcMDng"
      },
      "source": [
        "L'objectif de cette question est d'utiliser l'algorithme évolutionniste pour apprendre des politiques. Comme lors du TME précédent, vous utiliserez pour cela un problème très simple: le pendule inversé. Il s'agit de contrôler un pendule fixé sur un chariot et capable de tourner. Le chariot peut se déplacer horizontalement. Les mouvements horizontaux du pendule font osciller le pendule et l'objectif est de le maintenir à la verticale.\n",
        "\n",
        "Les paramètres soumis à l'optimisation par algorithme évolutionniste seront les paramètres de la politique qui contrôle le pendule. Vous pourrez donc réutiliser telles quelles les implémentations que vous venez de réaliser en remplaçant simplement la fonction d'évaluation par une fonction qui calcule la fitness associée à un jeu de paramètre de politiques donné. Cette évaluation sera faite avec OpenAI-Gym. \n",
        "\n",
        "OpenAI-gym est un framework permettant d'implémenter des expériences d'apprentissage par renforcement. Il propose une interface simple et unifiée et inclut de nombreux environnements utilisés pour tester des algorithmes d'apprentissage par renforcement. Comme lors du TME précédent, vous utiliserez cet environnement et son module CartPole-v1 pour apprendre à contrôler le pendule (voir https://gym.openai.com/envs/CartPole-v1/). \n",
        "\n",
        "Les annexes contiennent:\n",
        "- `nn.py`: le code associé à une politique représentée sous forme de réseaux de neurones: **NE PAS MODIFIER**\n",
        "- `cartpole.py`: le squelette de code de la fonction d'évaluation s'appuyant sur Gym: **COMPLÉTER LA CELLULE**\n",
        "- `cartpole_ea.py`: le squelette de code d'appel à l'algorithme évolutionniste: **COMPLÉTER LA CELLULE**\n",
        "\n",
        "\n",
        "Vous tracerez dans le notebook l'évolution des fitness comme dans la question précédente. Les calculs étant plus longs, vous pouvez vous limiter à une taille de population et un seul run. Faites en fonction de vos capacités de calcul et, le cas échéant, indiquez en commentaire ce que vous vous attendriez à observer avec une puissance de calcul supérieure. \n",
        "\n",
        "Vous choisirez la taille de population et le nombre de d'expériences à réaliser en fonction de la puissance de calcul disponible (des tailles de 100 ou 200 sont souhaitables)."
      ]
    },
    {
      "cell_type": "code",
      "execution_count": 11,
      "metadata": {
        "colab": {
          "base_uri": "https://localhost:8080/"
        },
        "id": "54OKjg0YMDng",
        "outputId": "0c8f92c8-663b-4d12-b3b6-75a831279581"
      },
      "outputs": [
        {
          "name": "stdout",
          "output_type": "stream",
          "text": [
            "Results in elitist_cartpole_2022_04_06-17-53-04CPU times: total: 46.9 ms\n",
            "Wall time: 19.6 s\n"
          ]
        },
        {
          "name": "stderr",
          "output_type": "stream",
          "text": [
            "C:\\Users\\jules\\AppData\\Local\\Packages\\PythonSoftwareFoundation.Python.3.9_qbz5n2kfra8p0\\LocalCache\\local-packages\\Python39\\site-packages\\scoop\\fallbacks.py:38: RuntimeWarning: SCOOP was not started properly.\n",
            "Be sure to start your program with the '-m scoop' parameter. You can find further information in the documentation.\n",
            "Your map call has been replaced by the builtin serial Python map().\n",
            "  warnings.warn(\n"
          ]
        },
        {
          "name": "stdout",
          "output_type": "stream",
          "text": [
            "\n",
            "Figure(640x480)\n"
          ]
        }
      ],
      "source": [
        "%%time\n",
        "!python3 cartpole_ea.py"
      ]
    },
    {
      "cell_type": "code",
      "execution_count": 12,
      "metadata": {
        "colab": {
          "base_uri": "https://localhost:8080/"
        },
        "id": "QPv1Xn7CMDng",
        "outputId": "42c73a8c-84a5-4a82-a4d6-6a8a80207018"
      },
      "outputs": [
        {
          "name": "stdout",
          "output_type": "stream",
          "text": [
            "[2022-04-06 17:53:20,122] launcher  INFO    SCOOP 0.7 1.1 on win32 using Python 3.9.12 (tags/v3.9.12:b28265d, Mar 23 2022, 23:52:46) [MSC v.1929 64 bit (AMD64)], API: 1013\n",
            "[2022-04-06 17:53:20,122] launcher  INFO    Deploying 8 worker(s) over 1 host(s).\n",
            "[2022-04-06 17:53:20,129] launcher  INFO    Worker distribution: \n",
            "[2022-04-06 17:53:20,129] launcher  INFO       127.0.0.1:\t7 + origin\n",
            "Results in elitist_cartpole_2022_04_06-17-53-28\n",
            "Figure(640x480)\n",
            "[2022-04-06 17:54:34,022] launcher  (127.0.0.1:56020) INFO    Root process is done.\n",
            "[2022-04-06 17:54:34,023] launcher  (127.0.0.1:56020) INFO    Finished cleaning spawned subprocesses.\n",
            "CPU times: total: 31.2 ms\n",
            "Wall time: 1min 14s\n"
          ]
        }
      ],
      "source": [
        "%%time\n",
        "!python3 -m scoop cartpole_ea.py"
      ]
    },
    {
      "cell_type": "code",
      "execution_count": 11,
      "metadata": {
        "id": "fLeME2lDMDng"
      },
      "outputs": [],
      "source": [
        "#<ANSWER>\n",
        "\n",
        "#</ANSWER>"
      ]
    },
    {
      "cell_type": "markdown",
      "metadata": {
        "id": "0yqRSYoPMDnh"
      },
      "source": [
        "**Remarque**: L'évaluation du pendule commence à une position aléatoire. Affichez plusieurs fois de suite la fitness obtenue en visualisant un même individu. Vous devriez observez que la fitness obtenue n'est pas toujours la même. C'est une illustration du problème de la généralisation. Pendant l'apprentissage, une politique n'a été testée que dans une condition particulière. Si vous changer un peu les conditions, vous n'avez pas de garantie sur ce qu'il va se passer... Pour limiter ce problème, une stratégie simple consiste à calculer la fitness non pas sur une seule évaluation, mais sur plusieurs et à prendre la moyenne (ou la somme) de ces différentes évaluations. Cela devrait réduire la variabilité observée. Si la puissance de calcul dont vous disposez le permet, vous pouvez modifier ainsi votre fontion d'évaluation."
      ]
    },
    {
      "cell_type": "markdown",
      "metadata": {
        "id": "IahFnakRTsc2"
      },
      "source": [
        "## 5. Apprentissage direct dans l'espace des politiques, version multi-objectif"
      ]
    },
    {
      "cell_type": "markdown",
      "metadata": {
        "id": "sEqieQzOMDnh"
      },
      "source": [
        "Le pendule inversé est en fait un problème multi-objectif dans lequel le pendule doit être maintenu à la verticale, le chariot étant centré dans une zone donnée. \n",
        "\n",
        "### 5.1 Cartpole & NSGA-2\n",
        "\n",
        "Compléter la cellule de la question 5 pour minimiser l'erreur en x et en theta avec NSGA-2. Comme précédemment, vous tracerez l'évolution de l'hypervolume (prendre un point de référence à [1000, 1000]). \n",
        "\n",
        "Vous choisirez la taille de population et le nombre de d'expériences à réaliser en fonction de la puissance de calcul disponible (des tailles de 100 ou 200 sont souhaitables)."
      ]
    },
    {
      "cell_type": "code",
      "execution_count": 10,
      "metadata": {
        "id": "NgZnWEOZMDnh"
      },
      "outputs": [
        {
          "name": "stdout",
          "output_type": "stream",
          "text": [
            "Results in nsga2_cartpole_2022_04_06-17-52-37\n",
            "avg    \tbest                                    \tgen\thypervolume\tmax    \tmin    \tstd   \n",
            "987.432\t[(865.2665214408189, 739.8405634223163)]\t0  \t35052.2    \t992.925\t739.841\t17.715\n",
            "CPU times: total: 15.6 ms\n",
            "Wall time: 1.59 s\n"
          ]
        },
        {
          "name": "stderr",
          "output_type": "stream",
          "text": [
            "C:\\Users\\jules\\AppData\\Local\\Packages\\PythonSoftwareFoundation.Python.3.9_qbz5n2kfra8p0\\LocalCache\\local-packages\\Python39\\site-packages\\scoop\\fallbacks.py:38: RuntimeWarning: SCOOP was not started properly.\n",
            "Be sure to start your program with the '-m scoop' parameter. You can find further information in the documentation.\n",
            "Your map call has been replaced by the builtin serial Python map().\n",
            "  warnings.warn(\n"
          ]
        }
      ],
      "source": [
        "%%time\n",
        "!python3 cartpole_nsga2.py"
      ]
    },
    {
      "cell_type": "code",
      "execution_count": 13,
      "metadata": {
        "id": "rotD-GyQMDnh"
      },
      "outputs": [
        {
          "name": "stdout",
          "output_type": "stream",
          "text": [
            "[2022-04-06 15:25:26,884] launcher  INFO    SCOOP 0.7 1.1 on win32 using Python 3.9.12 (tags/v3.9.12:b28265d, Mar 23 2022, 23:52:46) [MSC v.1929 64 bit (AMD64)], API: 1013\n",
            "[2022-04-06 15:25:26,884] launcher  INFO    Deploying 8 worker(s) over 1 host(s).\n",
            "[2022-04-06 15:25:26,884] launcher  INFO    Worker distribution: \n",
            "[2022-04-06 15:25:26,884] launcher  INFO       127.0.0.1:\t7 + origin\n",
            "[2022-04-06 15:25:29,865] launcher  (127.0.0.1:57843) INFO    Root process is done.\n",
            "[2022-04-06 15:25:29,865] launcher  (127.0.0.1:57843) INFO    Finished cleaning spawned subprocesses.\n",
            "CPU times: total: 31.2 ms\n",
            "Wall time: 3.78 s\n"
          ]
        },
        {
          "name": "stderr",
          "output_type": "stream",
          "text": [
            "Traceback (most recent call last):\n",
            "  File \"C:\\Program Files\\WindowsApps\\PythonSoftwareFoundation.Python.3.9_3.9.3312.0_x64__qbz5n2kfra8p0\\lib\\runpy.py\", line 197, in _run_module_as_main\n",
            "    return _run_code(code, main_globals, None,\n",
            "  File \"C:\\Program Files\\WindowsApps\\PythonSoftwareFoundation.Python.3.9_3.9.3312.0_x64__qbz5n2kfra8p0\\lib\\runpy.py\", line 87, in _run_code\n",
            "    exec(code, run_globals)\n",
            "  File \"C:\\Users\\jules\\AppData\\Local\\Packages\\PythonSoftwareFoundation.Python.3.9_qbz5n2kfra8p0\\LocalCache\\local-packages\\Python39\\site-packages\\scoop\\bootstrap\\__main__.py\", line 302, in <module>\n",
            "    b.main()\n",
            "  File \"C:\\Users\\jules\\AppData\\Local\\Packages\\PythonSoftwareFoundation.Python.3.9_qbz5n2kfra8p0\\LocalCache\\local-packages\\Python39\\site-packages\\scoop\\bootstrap\\__main__.py\", line 92, in main\n",
            "    self.run()\n",
            "  File \"C:\\Users\\jules\\AppData\\Local\\Packages\\PythonSoftwareFoundation.Python.3.9_qbz5n2kfra8p0\\LocalCache\\local-packages\\Python39\\site-packages\\scoop\\bootstrap\\__main__.py\", line 290, in run\n",
            "    futures_startup()\n",
            "  File \"C:\\Users\\jules\\AppData\\Local\\Packages\\PythonSoftwareFoundation.Python.3.9_qbz5n2kfra8p0\\LocalCache\\local-packages\\Python39\\site-packages\\scoop\\bootstrap\\__main__.py\", line 266, in futures_startup\n",
            "    return futures._startup(\n",
            "  File \"C:\\Users\\jules\\AppData\\Local\\Packages\\PythonSoftwareFoundation.Python.3.9_qbz5n2kfra8p0\\LocalCache\\local-packages\\Python39\\site-packages\\scoop\\futures.py\", line 64, in _startup\n",
            "    result = _controller.switch(rootFuture, *args, **kargs)\n",
            "  File \"C:\\Users\\jules\\AppData\\Local\\Packages\\PythonSoftwareFoundation.Python.3.9_qbz5n2kfra8p0\\LocalCache\\local-packages\\Python39\\site-packages\\scoop\\_control.py\", line 253, in runController\n",
            "    raise future.exceptionValue\n",
            "  File \"C:\\Users\\jules\\AppData\\Local\\Packages\\PythonSoftwareFoundation.Python.3.9_qbz5n2kfra8p0\\LocalCache\\local-packages\\Python39\\site-packages\\scoop\\_control.py\", line 127, in runFuture\n",
            "    future.resultValue = future.callable(*future.args, **future.kargs)\n",
            "  File \"C:\\Program Files\\WindowsApps\\PythonSoftwareFoundation.Python.3.9_3.9.3312.0_x64__qbz5n2kfra8p0\\lib\\runpy.py\", line 268, in run_path\n",
            "    return _run_module_code(code, init_globals, run_name,\n",
            "  File \"C:\\Program Files\\WindowsApps\\PythonSoftwareFoundation.Python.3.9_3.9.3312.0_x64__qbz5n2kfra8p0\\lib\\runpy.py\", line 97, in _run_module_code\n",
            "    _run_code(code, mod_globals, init_globals,\n",
            "  File \"C:\\Program Files\\WindowsApps\\PythonSoftwareFoundation.Python.3.9_3.9.3312.0_x64__qbz5n2kfra8p0\\lib\\runpy.py\", line 87, in _run_code\n",
            "    exec(code, run_globals)\n",
            "  File \"cartpole_nsga2.py\", line 28, in <module>\n",
            "    os.mkdir(dir)\n",
            "OSError: [WinError 123] La syntaxe du nom de fichier, de répertoire ou de volume est incorrecte: 'nsga2_cartpole_2022_04_06-15:25:29'\n"
          ]
        }
      ],
      "source": [
        "%%time\n",
        "!python3 -m scoop cartpole_nsga2.py"
      ]
    },
    {
      "cell_type": "code",
      "execution_count": 14,
      "metadata": {
        "id": "SLR8hXnQMDnh"
      },
      "outputs": [],
      "source": [
        "#<ANSWER>\n",
        "\n",
        "#</ANSWER>"
      ]
    },
    {
      "cell_type": "markdown",
      "metadata": {
        "id": "sh_lETprMDni"
      },
      "source": [
        "### 5.2 Comparaisons entre mono- et multi-objectif\n",
        "\n",
        "Tracez sur une même figure les valeurs finales atteintes (erreur en x et erreur en theta) pour des expériences en mono-objectif et en multi-objectif. \n",
        "\n",
        "Pour les expériences en mono-objectif, vous tracerez un point par expérience.\n",
        "\n",
        "Pour les expériences en multi-objectif, vous tracerez, pour chaque expérience, l'approximation du front de Pareto obtenue.\n",
        "\n"
      ]
    },
    {
      "cell_type": "code",
      "execution_count": 15,
      "metadata": {
        "id": "nvcfsp5MMDni"
      },
      "outputs": [],
      "source": [
        "#<ANSWER>\n",
        "\n",
        "#</ANSWER>\n"
      ]
    }
  ],
  "metadata": {
    "colab": {
      "collapsed_sections": [
        "B-g7fMBrMDnY",
        "oikX8T9Pn2yo",
        "_mHqe5olUSys",
        "7gSeTVpHTpxc",
        "IahFnakRTsc2",
        "hHznR2_rMDni",
        "IIikyZ-nMDnj",
        "WU3RsxK9MDnk"
      ],
      "name": "Enonce.ipynb",
      "provenance": []
    },
    "kernelspec": {
      "display_name": "Python 3",
      "language": "python",
      "name": "python3"
    },
    "language_info": {
      "codemirror_mode": {
        "name": "ipython",
        "version": 3
      },
      "file_extension": ".py",
      "mimetype": "text/x-python",
      "name": "python",
      "nbconvert_exporter": "python",
      "pygments_lexer": "ipython3",
      "version": "3.9.12"
    }
  },
  "nbformat": 4,
  "nbformat_minor": 0
}
