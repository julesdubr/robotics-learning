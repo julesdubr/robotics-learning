{
 "cells": [
  {
   "cell_type": "markdown",
   "metadata": {},
   "source": [
    "# <font color='red'>TME ROBOTIQUE ET APPRENTISSAGE</font>\n",
    "# <font color='red'>Evolution de structures</font>\n",
    "\n",
    "<font color=\"red\">Version étudiant 2021-2022</font>\n",
    "\n",
    "*mise à jour: 11/04/2022*"
   ]
  },
  {
   "cell_type": "markdown",
   "metadata": {},
   "source": [
    "Ce notebook peut être exécuté dans [Google Colab](colab.research.google.com/)\n",
    "\n",
    "Pour faciliter la lisibilité du notebook, le code donné, à écrire ou à compléter est dans les cellules en annexe, à la fin du notebook. Les cellules de réponses ne doivent contenir que les quelques instructions permettant d'afficher les résultats (éventuellement des appels permettant de les générer) et les commentaires d'analyse associés.\n",
    "\n",
    "Vous devez déposer votre travail sur Moodle:\n",
    "* déposer votre notebook, avec le nom de fichier *obligatoirement* au format suivant: **RA_NOM1_NOM2.ipynb**\n",
    "* toutes les cellules exécutées\n",
    "* des graphes et un commentaire sur les résultats obtenus\n",
    "* affichage limité au nécessaire pour assurer la lisibilité du notebook (pas d'affichage de debug ni de centaines de graphes !)\n",
    "\n",
    "*Le sujet est à faire en binome.*\n",
    "\n",
    "* Étudiant 1: **_Canitrot_ _Julien_ _3803521_**\n",
    "* Étudiant 2: **_Dubreuil_ _Jules_ _3800417_**"
   ]
  },
  {
   "cell_type": "markdown",
   "metadata": {},
   "source": [
    "## Introduction\n",
    "\n",
    "Ce TME est composé de deux parties indépendantes qui s'appuieront toutes deux sur le framework DEAP que vous avez utilisé lors des TME précédents. \n",
    "\n",
    "Dans la première partie, vous ferez de la regression symbolique avec de la programmation génétique.\n",
    "\n",
    "Dans la seconde partie, vous testerez l'expérience de Lehman et Stanley sur novelty search. \n",
    "\n",
    "Installation des dépendances:"
   ]
  },
  {
   "cell_type": "code",
   "execution_count": 2,
   "metadata": {},
   "outputs": [
    {
     "name": "stdout",
     "output_type": "stream",
     "text": [
      "Note: you may need to restart the kernel to use updated packages.\n"
     ]
    },
    {
     "name": "stderr",
     "output_type": "stream",
     "text": [
      "'C:\\Users\\Jules' n'est pas reconnu en tant que commande interne\n",
      "ou externe, un programme ex�cutable ou un fichier de commandes.\n"
     ]
    },
    {
     "name": "stdout",
     "output_type": "stream",
     "text": [
      "Note: you may need to restart the kernel to use updated packages.\n"
     ]
    },
    {
     "name": "stderr",
     "output_type": "stream",
     "text": [
      "'C:\\Users\\Jules' n'est pas reconnu en tant que commande interne\n",
      "ou externe, un programme ex�cutable ou un fichier de commandes.\n"
     ]
    },
    {
     "name": "stdout",
     "output_type": "stream",
     "text": [
      "Note: you may need to restart the kernel to use updated packages.\n"
     ]
    },
    {
     "name": "stderr",
     "output_type": "stream",
     "text": [
      "'C:\\Users\\Jules' n'est pas reconnu en tant que commande interne\n",
      "ou externe, un programme ex�cutable ou un fichier de commandes.\n"
     ]
    },
    {
     "name": "stdout",
     "output_type": "stream",
     "text": [
      "Note: you may need to restart the kernel to use updated packages.\n"
     ]
    },
    {
     "name": "stderr",
     "output_type": "stream",
     "text": [
      "'C:\\Users\\Jules' n'est pas reconnu en tant que commande interne\n",
      "ou externe, un programme ex�cutable ou un fichier de commandes.\n"
     ]
    },
    {
     "name": "stdout",
     "output_type": "stream",
     "text": [
      "Note: you may need to restart the kernel to use updated packages.\n"
     ]
    },
    {
     "name": "stderr",
     "output_type": "stream",
     "text": [
      "'C:\\Users\\Jules' n'est pas reconnu en tant que commande interne\n",
      "ou externe, un programme ex�cutable ou un fichier de commandes.\n"
     ]
    }
   ],
   "source": [
    "%pip install deap\n",
    "%pip install gym\n",
    "%pip install scoop\n",
    "# %apt install libgraphviz-dev\n",
    "%pip install pygraphviz\n",
    "# %apt install poppler-utils \n",
    "%pip install pdf2image"
   ]
  },
  {
   "cell_type": "markdown",
   "metadata": {},
   "source": [
    "Sur les machines de TME (ou sur votre machine), vous pouvez également utiliser singularity, qui est un outil permettant de gérer des \"containers\" contenant tout l'environnement logiciel et les dépendances nécessaires, cf https://sylabs.io/guides/3.5/user-guide/index.html.\n",
    "\n",
    "L'image singularity est disponible sur moodle.\n",
    "\n",
    "Vous devez la copier en local sur votre machine (elle ne doit pas être dans un répertoire accessible par le réseau). Vous pouve ensuite lancer un shell de la façon suivante:\n",
    "<pre>singularity shell TME_RA.sif </pre>\n",
    "Cela vous donnera accès à un shell dans lequel toutes les dépendances sont disponibles. \n",
    "\n",
    "Remarque: singularity attache par défaut votre répertoire home à l'image singularity. C'est très pratique, mais cela peut poser des difficultés en python si vous avez des bibliothèques installées en local. Vous pouvez utiliser l'option --no-home pour éviter ce type de problème. Pour accéder à vos fichiers, vous pouvez alors demander à monter un répertoire particulier dans votre image avec l'argument --bind TME_hors_singularity:/TME_dans_singularity."
   ]
  },
  {
   "cell_type": "markdown",
   "metadata": {},
   "source": [
    "## 1. Regression symbolique\n",
    "\n",
    "Vous allez utiliser la programmation génétique pour retrouver des équations à partir de données. \n",
    "Vous utiliserez pour cela les fonctions proposées par DEAP:\n",
    "https://deap.readthedocs.io/en/master/tutorials/advanced/gp.html et vous pourrez vous inspirez des exemples de programmation génétique donnés dans la documentation: https://deap.readthedocs.io/en/master/examples/gp_symbreg.html.\n",
    "\n",
    "\n",
    "**1.1-** Complétez le code qui vous a été fourni (annexe, question 1-3, `symbolic_regression.py`). En vous appuyant sur DEAP, vous implémenterez 3 stratégies: \n",
    "* une stratégie purement élitiste visant à minimiser l'erreur d'approximation uniquement, \n",
    "* la stratégie avec double tournoi, le premier tournoi choisissant les individus avec les erreurs les plus faibles et le second tournoi choisissant les individus avec le modèle le plus simple\n",
    "* une stratégie multi-objectif s'appuyant sur NSGA-2 avec l'erreur d'approximation comme premier objectif et la taille du modèle en deuxième objectif (les deux étant à minimiser)\n",
    "\n",
    "Vous testerez votre code sur une fonction simple (par exemple f(x,y)=x*y+cos(x)) avec le jeu de fonctions primitives suivant: +, -, *, / (protected_div), cos et sin. Vous pourrez ajouter une constante (1) et une constante éphémère (variable aléatoire uniforme entre -1 et 1). \n",
    "\n",
    "Vous génèrerez un ensemble de données d'entrainement et un ensemble de validation que vous utiliserez pour vérifier s'il y a eu surapprentissage. Vous pourrez générer, par exemple, 30 valeurs différentes de x et 30 valeurs différentes de y. Vous indiquerez dans votre réponse les opérateurs de mutation et de croisement que vous avez utilisés (remarque: si vous voulez combiner plusieurs opérateurs de mutation ou de croisement, il faut définir un nouvel opérateur qui gère cette combinaison).\n",
    "\n",
    "Vous regarderez les arbres générés et indiquerez le nombre de fois que la fonction a été retrouvée sur une dizaine d'expériences. Vous comparerez la taille des fonctions générées selon la variante de sélection utilisée. \n",
    "\n",
    "**Remarque1:** pour rappel, la programmation génétique utilise généralement de grandes populations. Il vous est recommandé d'utiliser des tailles de 400 minimum. En une centaine de générations, vous devriez pouvoir observer de premiers résultats. \n",
    "\n",
    "**Remarque2:** pour limiter l'impact du \"bloat\", il vous est recommandé de mettre une taille maximale à l'arbre généré par les opérateurs de mutation et de croisement. Vous pourrez utiliser gp.staticLimit. Sans cela, certaines expériences risquent de prendre un temps et une mémoire considérables. \n",
    "\n",
    "Complétez le squelette de code donné en annexe. L'exécution de la cellule sauvegardera son contenu que vous pourrez ensuite appeler dans un terminal ou directement depuis le notebook en transmettant les arguments décrivant la variante que vous souhaitez tester (tournoi, nsga2, ...).\n",
    "\n",
    "Vous pourrez afficher des arbres dans votre notebook en vous inspirant du code fourni ou en affichant directement le PDF dans le notebook avec les commandes suivantes:"
   ]
  },
  {
   "cell_type": "code",
   "execution_count": null,
   "metadata": {},
   "outputs": [],
   "source": [
    "filepath=\"res_dir/hof_tree_genX.pdf\"\n",
    "from pdf2image import convert_from_path\n",
    "\n",
    "images = convert_from_path(filepath)\n",
    "images[0]  # first page\n"
   ]
  },
  {
   "cell_type": "code",
   "execution_count": null,
   "metadata": {},
   "outputs": [],
   "source": [
    "#<ANSWER>\n",
    "#</ANSWER>\n"
   ]
  },
  {
   "cell_type": "markdown",
   "metadata": {},
   "source": [
    "**1.2-** Ajoutez du bruit à vos fonctions et observez le résultat obtenu (mettez des valeurs qui sont faibles devant les données, par exemple 0.0001)."
   ]
  },
  {
   "cell_type": "code",
   "execution_count": null,
   "metadata": {},
   "outputs": [],
   "source": [
    "#<ANSWER>\n",
    "#</ANSWER>"
   ]
  },
  {
   "cell_type": "markdown",
   "metadata": {},
   "source": [
    "## 2. Fitness & Nouveauté\n",
    "\n",
    "L'environnement `FastsimSimpleNavigation-v0` de gym_fastsim permet de lancer des expériences de navigation avec un robot à roues naviguant dans un labyrinthe. Vous allez dans cette partie reproduire les expériences de Lehman et Stanley sur la recherche de nouveauté. Vous allez faire différentes variantes de cette expérience, certaines étant en mono- d'autres étant en multi-objectif. Pour simplifier, dans tous les cas, vous utiliserez NSGA-2, qui est équivalent à une stratégie élitiste en mono-objectif.\n",
    "\n",
    "Pour installer l'environnement dans collab ou jupyter, utiliser les commandes suivantes:"
   ]
  },
  {
   "cell_type": "code",
   "execution_count": 4,
   "metadata": {},
   "outputs": [
    {
     "name": "stderr",
     "output_type": "stream",
     "text": [
      "Cloning into 'libfastsim'...\n",
      "'.' n'est pas reconnu en tant que commande interne\n",
      "ou externe, un programme ex�cutable ou un fichier de commandes.\n",
      "Cloning into 'pyfastsim'...\n"
     ]
    },
    {
     "name": "stdout",
     "output_type": "stream",
     "text": [
      "Processing c:\\users\\jules dubreuil\\documents\\universite\\210-ra\\tp5\\pyfastsim"
     ]
    },
    {
     "name": "stderr",
     "output_type": "stream",
     "text": [
      "  error: subprocess-exited-with-error\n",
      "  \n",
      "  × python setup.py bdist_wheel did not run successfully.\n",
      "  │ exit code: 1\n",
      "  ╰─> [54 lines of output]\n",
      "      running bdist_wheel\n",
      "      running build\n",
      "      running build_ext\n",
      "      'which' n'est pas reconnu en tant que commande interne\n",
      "      ou externe, un programme ex‚cutable ou un fichier de commandes.\n",
      "      building 'pyfastsim' extension\n",
      "      Traceback (most recent call last):\n",
      "        File \"<string>\", line 2, in <module>\n",
      "        File \"<pip-setuptools-caller>\", line 34, in <module>\n",
      "        File \"C:\\Users\\Jules Dubreuil\\Documents\\universite\\210-ra\\tp5\\pyfastsim\\setup.py\", line 108, in <module>\n",
      "          setup(\n",
      "        File \"C:\\Users\\Jules Dubreuil\\AppData\\Local\\Programs\\Python\\Python39\\lib\\site-packages\\setuptools\\__init__.py\", line 153, in setup\n",
      "          return distutils.core.setup(**attrs)\n",
      "        File \"C:\\Users\\Jules Dubreuil\\AppData\\Local\\Programs\\Python\\Python39\\lib\\distutils\\core.py\", line 148, in setup\n",
      "          dist.run_commands()\n",
      "        File \"C:\\Users\\Jules Dubreuil\\AppData\\Local\\Programs\\Python\\Python39\\lib\\distutils\\dist.py\", line 966, in run_commands\n",
      "          self.run_command(cmd)\n",
      "        File \"C:\\Users\\Jules Dubreuil\\AppData\\Local\\Programs\\Python\\Python39\\lib\\distutils\\dist.py\", line 985, in run_command\n",
      "          cmd_obj.run()\n",
      "        File \"C:\\Users\\Jules Dubreuil\\AppData\\Local\\Programs\\Python\\Python39\\lib\\site-packages\\wheel\\bdist_wheel.py\", line 299, in run\n",
      "          self.run_command('build')\n",
      "        File \"C:\\Users\\Jules Dubreuil\\AppData\\Local\\Programs\\Python\\Python39\\lib\\distutils\\cmd.py\", line 313, in run_command\n",
      "          self.distribution.run_command(command)\n",
      "        File \"C:\\Users\\Jules Dubreuil\\AppData\\Local\\Programs\\Python\\Python39\\lib\\distutils\\dist.py\", line 985, in run_command\n",
      "          cmd_obj.run()\n",
      "        File \"C:\\Users\\Jules Dubreuil\\AppData\\Local\\Programs\\Python\\Python39\\lib\\distutils\\command\\build.py\", line 135, in run\n",
      "          self.run_command(cmd_name)\n",
      "        File \"C:\\Users\\Jules Dubreuil\\AppData\\Local\\Programs\\Python\\Python39\\lib\\distutils\\cmd.py\", line 313, in run_command\n",
      "          self.distribution.run_command(command)\n",
      "        File \"C:\\Users\\Jules Dubreuil\\AppData\\Local\\Programs\\Python\\Python39\\lib\\distutils\\dist.py\", line 985, in run_command\n",
      "          cmd_obj.run()\n",
      "        File \"C:\\Users\\Jules Dubreuil\\AppData\\Local\\Programs\\Python\\Python39\\lib\\site-packages\\setuptools\\command\\build_ext.py\", line 79, in run\n",
      "          _build_ext.run(self)\n",
      "        File \"C:\\Users\\Jules Dubreuil\\AppData\\Local\\Programs\\Python\\Python39\\lib\\distutils\\command\\build_ext.py\", line 340, in run\n",
      "          self.build_extensions()\n",
      "        File \"C:\\Users\\Jules Dubreuil\\Documents\\universite\\210-ra\\tp5\\pyfastsim\\setup.py\", line 106, in build_extensions\n",
      "          build_ext.build_extensions(self)\n",
      "        File \"C:\\Users\\Jules Dubreuil\\AppData\\Local\\Programs\\Python\\Python39\\lib\\distutils\\command\\build_ext.py\", line 449, in build_extensions\n",
      "          self._build_extensions_serial()\n",
      "        File \"C:\\Users\\Jules Dubreuil\\AppData\\Local\\Programs\\Python\\Python39\\lib\\distutils\\command\\build_ext.py\", line 474, in _build_extensions_serial\n",
      "          self.build_extension(ext)\n",
      "        File \"C:\\Users\\Jules Dubreuil\\AppData\\Local\\Programs\\Python\\Python39\\lib\\site-packages\\setuptools\\command\\build_ext.py\", line 202, in build_extension\n",
      "          _build_ext.build_extension(self, ext)\n",
      "        File \"C:\\Users\\Jules Dubreuil\\AppData\\Local\\Programs\\Python\\Python39\\lib\\distutils\\command\\build_ext.py\", line 529, in build_extension\n",
      "          objects = self.compiler.compile(sources,\n",
      "        File \"C:\\Users\\Jules Dubreuil\\AppData\\Local\\Programs\\Python\\Python39\\lib\\distutils\\_msvccompiler.py\", line 324, in compile\n",
      "          compile_info = self._setup_compile(output_dir, macros, include_dirs,\n",
      "        File \"C:\\Users\\Jules Dubreuil\\AppData\\Local\\Programs\\Python\\Python39\\lib\\distutils\\ccompiler.py\", line 341, in _setup_compile\n",
      "          pp_opts = gen_preprocess_options(macros, incdirs)\n",
      "        File \"C:\\Users\\Jules Dubreuil\\AppData\\Local\\Programs\\Python\\Python39\\lib\\distutils\\ccompiler.py\", line 1076, in gen_preprocess_options\n",
      "          pp_opts.append(\"-I%s\" % dir)\n",
      "        File \"C:\\Users\\Jules Dubreuil\\Documents\\universite\\210-ra\\tp5\\pyfastsim\\setup.py\", line 20, in __str__\n",
      "          import pybind11\n",
      "      ModuleNotFoundError: No module named 'pybind11'\n",
      "      [end of output]\n",
      "  \n",
      "  note: This error originates from a subprocess, and is likely not a problem with pip.\n",
      "  ERROR: Failed building wheel for pyfastsim\n",
      "  error: subprocess-exited-with-error\n",
      "  \n",
      "  × Running setup.py install for pyfastsim did not run successfully.\n",
      "  │ exit code: 1\n",
      "  ╰─> [14 lines of output]\n",
      "      running install\n",
      "      running build\n",
      "      running build_ext\n",
      "      'which' n'est pas reconnu en tant que commande interne\n",
      "      ou externe, un programme ex‚cutable ou un fichier de commandes.\n",
      "      building 'pyfastsim' extension\n",
      "      creating build\n",
      "      creating build\\temp.win-amd64-3.9\n",
      "      creating build\\temp.win-amd64-3.9\\Release\n",
      "      creating build\\temp.win-amd64-3.9\\Release\\src\n",
      "      C:\\Program Files (x86)\\Microsoft Visual Studio\\2022\\BuildTools\\VC\\Tools\\MSVC\\14.30.30705\\bin\\HostX86\\x64\\cl.exe /c /nologo /Ox /W3 /GL /DNDEBUG /MD -IC:\\Users\\Jules Dubreuil\\AppData\\Local\\Programs\\Python\\Python39\\lib\\site-packages\\pybind11\\include -IC:\\Users\\Jules Dubreuil\\AppData\\Local\\Programs\\Python\\Python39\\lib\\site-packages\\pybind11\\include -IC:\\Users\\Jules Dubreuil\\AppData\\Local\\Programs\\Python\\Python39\\include -IC:\\Users\\Jules Dubreuil\\AppData\\Local\\Programs\\Python\\Python39\\include -IC:\\Program Files (x86)\\Microsoft Visual Studio\\2022\\BuildTools\\VC\\Tools\\MSVC\\14.30.30705\\include -IC:\\Program Files (x86)\\Windows Kits\\10\\include\\10.0.19041.0\\ucrt -IC:\\Program Files (x86)\\Windows Kits\\10\\\\include\\10.0.19041.0\\\\shared -IC:\\Program Files (x86)\\Windows Kits\\10\\\\include\\10.0.19041.0\\\\um -IC:\\Program Files (x86)\\Windows Kits\\10\\\\include\\10.0.19041.0\\\\winrt -IC:\\Program Files (x86)\\Windows Kits\\10\\\\include\\10.0.19041.0\\\\cppwinrt /EHsc /Tpsrc/main.cpp /Fobuild\\temp.win-amd64-3.9\\Release\\src/main.obj /EHsc /DVERSION_INFO=\\\"0.1.0\\\"\n",
      "      main.cpp\n",
      "      src/main.cpp(6): fatal error C1083: Impossible d'ouvrir le fichier includeÿ: 'libfastsim/fastsim.hpp'ÿ: No such file or directory\n",
      "      error: command 'C:\\\\Program Files (x86)\\\\Microsoft Visual Studio\\\\2022\\\\BuildTools\\\\VC\\\\Tools\\\\MSVC\\\\14.30.30705\\\\bin\\\\HostX86\\\\x64\\\\cl.exe' failed with exit code 2\n",
      "      [end of output]\n",
      "  \n",
      "  note: This error originates from a subprocess, and is likely not a problem with pip.\n",
      "error: legacy-install-failure\n",
      "\n",
      "× Encountered error while trying to install package.\n",
      "╰─> pyfastsim\n",
      "\n",
      "note: This is an issue with the package mentioned above, not pip.\n",
      "hint: See above for output from the failure.\n"
     ]
    },
    {
     "name": "stdout",
     "output_type": "stream",
     "text": [
      "\n",
      "  Preparing metadata (setup.py): started\n",
      "  Preparing metadata (setup.py): finished with status 'done'\n",
      "Collecting pybind11>=2.2\n",
      "  Downloading pybind11-2.9.2-py2.py3-none-any.whl (213 kB)\n",
      "     ------------------------------------- 213.6/213.6 KB 12.7 MB/s eta 0:00:00\n",
      "Building wheels for collected packages: pyfastsim\n",
      "  Building wheel for pyfastsim (setup.py): started\n",
      "  Building wheel for pyfastsim (setup.py): finished with status 'error'\n",
      "  Running setup.py clean for pyfastsim\n",
      "Failed to build pyfastsim\n",
      "Installing collected packages: pybind11, pyfastsim\n",
      "  Running setup.py install for pyfastsim: started\n",
      "  Running setup.py install for pyfastsim: finished with status 'error'\n"
     ]
    },
    {
     "name": "stderr",
     "output_type": "stream",
     "text": [
      "Cloning into 'fastsim_gym'...\n"
     ]
    },
    {
     "name": "stdout",
     "output_type": "stream",
     "text": [
      "Processing c:\\users\\jules dubreuil\\documents\\universite\\210-ra\\tp5\\fastsim_gym\n",
      "  Preparing metadata (setup.py): started\n",
      "  Preparing metadata (setup.py): finished with status 'done'\n",
      "Requirement already satisfied: gym>=0.11.0 in c:\\users\\jules dubreuil\\appdata\\local\\programs\\python\\python39\\lib\\site-packages (from gym-fastsim==0.0.6) (0.21.0)\n"
     ]
    },
    {
     "name": "stderr",
     "output_type": "stream",
     "text": [
      "ERROR: Could not find a version that satisfies the requirement pyfastsim (from gym-fastsim) (from versions: none)\n",
      "ERROR: No matching distribution found for pyfastsim\n"
     ]
    }
   ],
   "source": [
    "!git clone https://github.com/sferes2/libfastsim\n",
    "!cd libfastsim && ./waf configure build install\n",
    "!git clone https://github.com/alexendy/pyfastsim\n",
    "!cd pyfastsim && pip install .\n",
    "!git clone https://github.com/alexendy/fastsim_gym\n",
    "!cd fastsim_gym && pip install ."
   ]
  },
  {
   "cell_type": "markdown",
   "metadata": {},
   "source": [
    "Remarque: pour une installation sur les machines de TME, vous n'aurez pas les droits pour installer fastsim dans les répertoires système. Dans ce cas, vous pouvez ajouter l'installer dans votre répertoire en ajoutant un argument 'prefix' au waf configure et ajouter le répertoire des libs ainsi créé à la variable d'environnement LIBRARY_PATH et le répertoire des fichiers headers à la variable d'environnement CPATH. Une fois cela fait, vous pouvez faire appel au pip install de pyfastsim puis de fastsim_gym."
   ]
  },
  {
   "cell_type": "markdown",
   "metadata": {},
   "source": [
    "**2.1-**  Lancer une première expérience dans laquelle le robot doit atteindre la sortie du labyrinthe. Vous pourrez essayer avec la reward de l'expérience, qui est une reward binaire (sortie atteinte ou non) et avec une fitness plus continue dans laquelle la récompense est la distance à la sortie (à minimiser donc). Pour observer le comportement de la recherche effectuée, vous pourrez écrire la position du robot à la fin de l'évaluation et ensuite tracer ces positions avec les fonctions fournies dans `maze_plot.py` (vous pouvez aussi tracer les trajectoires, mais comme il y a 2000 positions par évaluation, dans ce cas, vous pourrez n'écrire qu'une position sur 100, par exemple).\n",
    "\n",
    "Quelles parties de l'espace ont été explorées dans les deux cas ? Est-ce que la sortie est atteinte (vous vous limiterez à 200 générations) ? Si oui, au bout de combien de générations ?"
   ]
  },
  {
   "cell_type": "code",
   "execution_count": null,
   "metadata": {},
   "outputs": [],
   "source": [
    "#<ANSWER>\n",
    "\n",
    "#</ANSWER>"
   ]
  },
  {
   "cell_type": "markdown",
   "metadata": {},
   "source": [
    "**2.2-** Lancer la même expérience, mais avec un critère de nouveauté. Vous pourrez pour cela partir du code fourni pour le calcul de nouveauté (`novelty_search.py`) et le compléter.  "
   ]
  },
  {
   "cell_type": "code",
   "execution_count": null,
   "metadata": {},
   "outputs": [],
   "source": [
    "#<ANSWER>\n",
    "\n",
    "#</ANSWER>"
   ]
  },
  {
   "cell_type": "markdown",
   "metadata": {},
   "source": [
    "**2.3-** Utiliser en même temps la fitness et le critère de nouveauté avec NSGA-2. Mesurez le temps moyen pour atteindre la sortie. "
   ]
  },
  {
   "cell_type": "code",
   "execution_count": null,
   "metadata": {},
   "outputs": [],
   "source": [
    "#<ANSWER>\n",
    "\n",
    "#</ANSWER>"
   ]
  }
 ],
 "metadata": {
  "kernelspec": {
   "display_name": "Python 3",
   "language": "python",
   "name": "python3"
  },
  "language_info": {
   "codemirror_mode": {
    "name": "ipython",
    "version": 3
   },
   "file_extension": ".py",
   "mimetype": "text/x-python",
   "name": "python",
   "nbconvert_exporter": "python",
   "pygments_lexer": "ipython3",
   "version": "3.9.9"
  }
 },
 "nbformat": 4,
 "nbformat_minor": 2
}
